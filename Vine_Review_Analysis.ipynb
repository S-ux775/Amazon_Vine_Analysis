{
  "nbformat": 4,
  "nbformat_minor": 0,
  "metadata": {
    "colab": {
      "name": "Vine_Review_Analysis.ipynb",
      "provenance": [],
      "collapsed_sections": []
    },
    "kernelspec": {
      "name": "python3",
      "display_name": "Python 3"
    }
  },
  "cells": [
    {
      "cell_type": "code",
      "metadata": {
        "id": "1714IstBfSY7",
        "outputId": "a590c157-6ee8-40ab-8396-83fbd22c57d8",
        "colab": {
          "base_uri": "https://localhost:8080/"
        }
      },
      "source": [
        "import os\n",
        "# Find the latest version of spark 3.0 from http://www.apache.org/dist/spark/ and enter as the spark version\n",
        "# For example:\n",
        "# spark_version = 'spark-3.0.3'\n",
        "spark_version = 'spark-3.2.2'\n",
        "os.environ['SPARK_VERSION']=spark_version\n",
        "\n",
        "# Install Spark and Java\n",
        "!apt-get update\n",
        "!apt-get install openjdk-11-jdk-headless -qq > /dev/null\n",
        "!wget -q http://www.apache.org/dist/spark/$SPARK_VERSION/$SPARK_VERSION-bin-hadoop2.7.tgz\n",
        "!tar xf $SPARK_VERSION-bin-hadoop2.7.tgz\n",
        "!pip install -q findspark\n",
        "\n",
        "# Set Environment Variables\n",
        "import os\n",
        "os.environ[\"JAVA_HOME\"] = \"/usr/lib/jvm/java-11-openjdk-amd64\"\n",
        "os.environ[\"SPARK_HOME\"] = f\"/content/{spark_version}-bin-hadoop2.7\"\n",
        "\n",
        "# Start a SparkSession\n",
        "import findspark\n",
        "findspark.init()"
      ],
      "execution_count": null,
      "outputs": [
        {
          "output_type": "stream",
          "name": "stdout",
          "text": [
            "\r0% [Working]\r            \rHit:1 http://security.ubuntu.com/ubuntu bionic-security InRelease\n",
            "Hit:2 https://cloud.r-project.org/bin/linux/ubuntu bionic-cran40/ InRelease\n",
            "Hit:3 http://archive.ubuntu.com/ubuntu bionic InRelease\n",
            "Hit:4 http://ppa.launchpad.net/c2d4u.team/c2d4u4.0+/ubuntu bionic InRelease\n",
            "Ign:5 https://developer.download.nvidia.com/compute/machine-learning/repos/ubuntu1804/x86_64  InRelease\n",
            "Hit:6 http://archive.ubuntu.com/ubuntu bionic-updates InRelease\n",
            "Hit:7 https://developer.download.nvidia.com/compute/cuda/repos/ubuntu1804/x86_64  InRelease\n",
            "Hit:8 https://developer.download.nvidia.com/compute/machine-learning/repos/ubuntu1804/x86_64  Release\n",
            "Hit:9 http://archive.ubuntu.com/ubuntu bionic-backports InRelease\n",
            "Hit:10 http://ppa.launchpad.net/cran/libgit2/ubuntu bionic InRelease\n",
            "Hit:11 http://ppa.launchpad.net/deadsnakes/ppa/ubuntu bionic InRelease\n",
            "Hit:12 http://ppa.launchpad.net/graphics-drivers/ppa/ubuntu bionic InRelease\n",
            "Reading package lists... Done\n"
          ]
        }
      ]
    },
    {
      "cell_type": "code",
      "source": [
        "# Download the Postgres driver that will allow Spark to interact with Postgres.\n",
        "!wget https://jdbc.postgresql.org/download/postgresql-42.2.16.jar"
      ],
      "metadata": {
        "colab": {
          "base_uri": "https://localhost:8080/"
        },
        "id": "Zao__UIyR2u3",
        "outputId": "633af467-d002-4221-8330-93deddeaa5fd"
      },
      "execution_count": null,
      "outputs": [
        {
          "output_type": "stream",
          "name": "stdout",
          "text": [
            "--2022-08-19 00:48:25--  https://jdbc.postgresql.org/download/postgresql-42.2.16.jar\n",
            "Resolving jdbc.postgresql.org (jdbc.postgresql.org)... 72.32.157.228, 2001:4800:3e1:1::228\n",
            "Connecting to jdbc.postgresql.org (jdbc.postgresql.org)|72.32.157.228|:443... connected.\n",
            "HTTP request sent, awaiting response... 200 OK\n",
            "Length: 1002883 (979K) [application/java-archive]\n",
            "Saving to: ‘postgresql-42.2.16.jar.2’\n",
            "\n",
            "postgresql-42.2.16. 100%[===================>] 979.38K  5.43MB/s    in 0.2s    \n",
            "\n",
            "2022-08-19 00:48:26 (5.43 MB/s) - ‘postgresql-42.2.16.jar.2’ saved [1002883/1002883]\n",
            "\n"
          ]
        }
      ]
    },
    {
      "cell_type": "code",
      "source": [
        "from pyspark.sql import SparkSession\n",
        "spark = SparkSession.builder.appName(\"M16-Amazon-Challenge\").config(\"spark.driver.extraClassPath\",\"/content/postgresql-42.2.16.jar\").getOrCreate()"
      ],
      "metadata": {
        "id": "NlAg0CCPR6ZR"
      },
      "execution_count": null,
      "outputs": []
    },
    {
      "cell_type": "markdown",
      "metadata": {
        "id": "A8con0m2gHVb"
      },
      "source": [
        "#### EXTRACT\n"
      ]
    },
    {
      "cell_type": "code",
      "metadata": {
        "id": "SwVyUK2KgDNt",
        "outputId": "67d4ab63-722c-4faf-9016-8b91a987aae4",
        "colab": {
          "base_uri": "https://localhost:8080/"
        }
      },
      "source": [
        "# Read in data from S3 Bukets\n",
        "from pyspark import SparkFiles\n",
        "\n",
        "url= \"https://s3.amazonaws.com/amazon-reviews-pds/tsv/amazon_reviews_us_Beauty_v1_00.tsv.gz\"\n",
        "spark.sparkContext.addFile(url)\n",
        "df = spark.read.csv(SparkFiles.get('amazon_reviews_us_Beauty_v1_00.tsv.gz'), sep='\\t', header=True, inferSchema = True)\n",
        "df.show(n=20,truncate=False)\n"
      ],
      "execution_count": null,
      "outputs": [
        {
          "output_type": "stream",
          "name": "stdout",
          "text": [
            "+-----------+-----------+--------------+----------+--------------+----------------------------------------------------------------------------------------------+----------------+-----------+-------------+-----------+----+-----------------+-------------------------------------------------------+---------------------------------------------------------------------------------------------------------------------------------------------------------------------------------------------------------------------------------------------------------------------------------------------------------------------------------------------------------------------------------------------------------------------------------------+-----------+\n",
            "|marketplace|customer_id|review_id     |product_id|product_parent|product_title                                                                                 |product_category|star_rating|helpful_votes|total_votes|vine|verified_purchase|review_headline                                        |review_body                                                                                                                                                                                                                                                                                                                                                                                                                            |review_date|\n",
            "+-----------+-----------+--------------+----------+--------------+----------------------------------------------------------------------------------------------+----------------+-----------+-------------+-----------+----+-----------------+-------------------------------------------------------+---------------------------------------------------------------------------------------------------------------------------------------------------------------------------------------------------------------------------------------------------------------------------------------------------------------------------------------------------------------------------------------------------------------------------------------+-----------+\n",
            "|US         |1797882    |R3I2DHQBR577SS|B001ANOOOE|2102612       |The Naked Bee Vitmin C Moisturizing Sunscreen SPF 30, 5.5 oz (163 ml.)                        |Beauty          |5          |0            |0          |N   |Y                |Five Stars                                             |Love this, excellent sun block!!                                                                                                                                                                                                                                                                                                                                                                                                       |2015-08-31 |\n",
            "|US         |18381298   |R1QNE9NQFJC2Y4|B0016J22EQ|106393691     |Alba Botanica Sunless Tanning Lotion, 4 Ounce                                                 |Beauty          |5          |0            |0          |N   |Y                |Thank you Alba Bontanica!                              |The great thing about this cream is that it doesn't smell weird like all those chemical laden ones.  I get a nice healthy un-fake looking tan that isn't orange and it makes my skin soft too.                                                                                                                                                                                                                                         |2015-08-31 |\n",
            "|US         |19242472   |R3LIDG2Q4LJBAO|B00HU6UQAG|375449471     |Elysee Infusion Skin Therapy Elixir, 2oz.                                                     |Beauty          |5          |0            |0          |N   |Y                |Five Stars                                             |Great Product, I'm 65 years old and this is all it claims to be!                                                                                                                                                                                                                                                                                                                                                                       |2015-08-31 |\n",
            "|US         |19551372   |R3KSZHPAEVPEAL|B002HWS7RM|255651889     |Diane D722 Color, Perm And Conditioner Processing Caps - 100-Pack - Clear                     |Beauty          |5          |0            |0          |N   |Y                |GOOD DEAL!                                             |I use them as shower caps & conditioning caps. I like that they're in bulk. It saves a lot of money.                                                                                                                                                                                                                                                                                                                                   |2015-08-31 |\n",
            "|US         |14802407   |RAI2OIG50KZ43 |B00SM99KWU|116158747     |Biore UV Aqua Rich Watery Essence SPF50+/PA++++ (pack of 2)                                   |Beauty          |5          |0            |0          |N   |Y                |this soaks in quick and provides a nice base for makeup|This is my go-to daily sunblock. It leaves no white cast at all and has a clean, pleasant scent. If you're a makeup wearer, this soaks in quick and provides a nice base for makeup. I've been using this brand for over a year. With daily use, this tube will last you a couple months.                                                                                                                                              |2015-08-31 |\n",
            "|US         |2909389    |R1R30FA4RB5P54|B000NYL1Z6|166146615     |Murad Clarifying Cleanser                                                                     |Beauty          |4          |0            |0          |N   |Y                |Four Stars                                             |Good                                                                                                                                                                                                                                                                                                                                                                                                                                   |2015-08-31 |\n",
            "|US         |19397215   |R30IJKCGJBGPJH|B001SYWTFG|111742328     |CoverGirl Queen Collection Perfect Point Plus Eyeliner Black Onyx 200                         |Beauty          |5          |0            |0          |N   |Y                |Good buy                                               |Great eyeliner, does run just a little bit at corners at times, but overall, it does keep on your eyes all day long.                                                                                                                                                                                                                                                                                                                   |2015-08-31 |\n",
            "|US         |3195210    |R18GLJJPVQ1OVH|B005F2EVMQ|255803087     |Bifesta Mandom Eye Makeup Remover, 145ml                                                      |Beauty          |5          |0            |0          |N   |Y                |Five Stars                                             |Best makeup remover！                                                                                                                                                                                                                                                                                                                                                                                                                  |2015-08-31 |\n",
            "|US         |52216383   |R8TVYIJXLYJT0 |B00M1SUW7K|246816549     |Can You Handlebar All-Natural Secondary Moustache Wax : Extra Strength, Firm Hold             |Beauty          |5          |0            |0          |N   |Y                |Tame the wild mustache                                 |This is a great product. I'm on my latest stab at a major beard, and I always seem to start growing them during the hottest months. My mustache is going through a particularly awkward phase of growth, and this wax really helps keep it in place, out of the way. I look neater and I can actually eat and drink again without collecting a big mess. If you're going to get this, do yourself a favor and get a good mustache comb.|2015-08-31 |\n",
            "|US         |10278216   |R1CJGF6M3PVHEZ|B001KYQA1S|9612905       |Maybelline Great Lash Washable Mascara, Clear [110], 1 ea                                     |Beauty          |1          |0            |2          |N   |Y                |but it's like having nothing on them at all            |I thought it would darken the lashes even though it's clear, but it's like having nothing on them at all. Sadly I threw it away.                                                                                                                                                                                                                                                                                                       |2015-08-31 |\n",
            "|US         |24655453   |R2A30ALEGLMCGN|B00SAQ9DZY|292127037     |12 New, High Quality, Amber 2 ml (5/8 Dram) Glass Bottles, with Orifice Reducer and Black Cap.|Beauty          |4          |1            |1          |N   |Y                |Good Product                                           |These are great for small mixtures for EO's, especially for traveling.  I only gave this 4 stars because of the orifice reducer.  The hole is so small it is hard to get the oil out.  Just needs to be slightly bigger.                                                                                                                                                                                                               |2015-08-31 |\n",
            "|US         |30788223   |R134GP1Y3EQZ1L|B00HFQQ0VU|311309827     |Waterpik Aquarius Water Flosser                                                               |Beauty          |5          |0            |0          |N   |Y                |Optimum Oral Health                                    |Just got this.  Nice size and very compact.  I am looking forward to the gum massaging.  I wore out my last model.                                                                                                                                                                                                                                                                                                                     |2015-08-31 |\n",
            "|US         |11257536   |R6CE3SOIUJGP4 |B00PYL8MAA|390030149     |Proganix Agave Nectar Plus Silica Curling Cream Plus Defrizzant, 6 Ounce                      |Beauty          |4          |1            |1          |N   |N                |Love this cream !                                      |Wish I had discovered this years ago ! Leaves my curles super defined and soft !!!. I still need to put on gel or spray for it to last though but it is super recommend it!                                                                                                                                                                                                                                                            |2015-08-31 |\n",
            "|US         |29605778   |R37CDLQZUPDZVM|B00D9NV2D4|794858888     |Shea Butter                                                                                   |Beauty          |5          |0            |0          |N   |Y                |It works so much better than store bought lotion       |I bought this to make my own lotion. I mixed the shea butter and coconut oil together. It works so much better than store bought lotion! I want to get some raw cocoa butter to mix in with the next batch.                                                                                                                                                                                                                            |2015-08-31 |\n",
            "|US         |41238422   |R1KH9XCK6GYT26|B008Y9M412|874223919     |Etude House Fresh Cherry Tint # 02 RD301                                                      |Beauty          |5          |0            |0          |N   |Y                |Five Stars                                             |The tint is awesome but seller don't even send one sample.                                                                                                                                                                                                                                                                                                                                                                             |2015-08-31 |\n",
            "|US         |23620123   |R3I4BQ6654MQNA|B00FWXBLHG|464001209     |Vintage Lil' Sponge Holder                                                                    |Beauty          |5          |1            |1          |N   |Y                |Great product, fast delivery                           |I'm in love with this! It's so unique and fits with my decor beautifully.  Couldn't ask for a better seller.  Received product before date promised.                                                                                                                                                                                                                                                                                   |2015-08-31 |\n",
            "|US         |25564245   |R3LUPG356F1D40|B003KL8CB0|328680790     |Jenna Jameson Heartbreaker Perfume parent                                                     |Beauty          |5          |3            |3          |N   |N                |Does not smell cheap!                                  |I was given this product in exchange for a review. All I can say is wow!!!! I love perfume, and this is a great scent! The notes are a little heavy but i really like it overall. I get headaches easily, but this doesnt seem to do that with me. Does not smell cheap!!! It is a wonderful fragrance for not a lot of money! I love it, you should give it a try!                                                                    |2015-08-31 |\n",
            "|US         |801375     |R3HNVRTHL9S2ZB|B006R2LNV0|620737389     |Korean Cosmetics_Isa Knox X2D2 Original Hydra Serum_50ml                                      |Beauty          |5          |0            |0          |N   |N                |Five Stars                                             |Magical everybody noticed a skin change right away                                                                                                                                                                                                                                                                                                                                                                                     |2015-08-31 |\n",
            "|US         |9478730    |R5HKL5RD4IUT8 |B00SMIIR0W|351973146     |Schick Hydro Silk TrimStyle Moisturizing Razor                                                |Beauty          |5          |0            |0          |N   |Y                |Love this Razor/Trimmer                                |Works fantastic! The razor leaves my legs really smooth unlike most disposable razors I've used. The razor runs acrossed your skin so smoothly you don't feel like its doing anything. The trimmer is a trimmer it trims, not meant for down to the skin shave but it gets close enough so you can just run the razor through and boom smooth!                                                                                         |2015-08-31 |\n",
            "|US         |18418407   |R37Z8NBTHPR853|B003UKKH6O|10034795      |Oral-B Vitality Prowhite Rechargeable Electric Toothbrush 1 Count                             |Beauty          |5          |0            |0          |N   |Y                |Five Stars                                             |excellent battery tooth brush                                                                                                                                                                                                                                                                                                                                                                                                          |2015-08-31 |\n",
            "+-----------+-----------+--------------+----------+--------------+----------------------------------------------------------------------------------------------+----------------+-----------+-------------+-----------+----+-----------------+-------------------------------------------------------+---------------------------------------------------------------------------------------------------------------------------------------------------------------------------------------------------------------------------------------------------------------------------------------------------------------------------------------------------------------------------------------------------------------------------------------+-----------+\n",
            "only showing top 20 rows\n",
            "\n"
          ]
        }
      ]
    },
    {
      "cell_type": "code",
      "source": [
        "df2 = df.select([\"star_rating\", \"helpful_votes\", \"total_votes\", \"vine\", \"verified_purchase\"])\n",
        "df2.show(10)\n",
        "\n",
        "# Data fraame with votes equal or greater than 20\n",
        "df3 = df2.filter(df2[\"total_votes\"] >= 20)\n",
        "df4 = df3.filter(df3[\"helpful_votes\"]/df3[\"total_votes\"] >= 0.5)"
      ],
      "metadata": {
        "colab": {
          "base_uri": "https://localhost:8080/"
        },
        "id": "ihvmcNKBVybz",
        "outputId": "780fdcb1-9360-483a-a501-2493da6a61c7"
      },
      "execution_count": null,
      "outputs": [
        {
          "output_type": "stream",
          "name": "stdout",
          "text": [
            "+-----------+-------------+-----------+----+-----------------+\n",
            "|star_rating|helpful_votes|total_votes|vine|verified_purchase|\n",
            "+-----------+-------------+-----------+----+-----------------+\n",
            "|          5|            0|          0|   N|                Y|\n",
            "|          5|            0|          0|   N|                Y|\n",
            "|          5|            0|          0|   N|                Y|\n",
            "|          5|            0|          0|   N|                Y|\n",
            "|          5|            0|          0|   N|                Y|\n",
            "|          4|            0|          0|   N|                Y|\n",
            "|          5|            0|          0|   N|                Y|\n",
            "|          5|            0|          0|   N|                Y|\n",
            "|          5|            0|          0|   N|                Y|\n",
            "|          1|            0|          2|   N|                Y|\n",
            "+-----------+-------------+-----------+----+-----------------+\n",
            "only showing top 10 rows\n",
            "\n"
          ]
        }
      ]
    },
    {
      "cell_type": "code",
      "source": [
        "from pyspark.sql.functions import col, avg\n",
        "\n",
        "paid_df = df4.filter(df4['vine']== 'Y')\n",
        "unpaid_df = df4.filter(df4['vine']== 'N')\n",
        "\n",
        "# Revies part of the vine program\n",
        "paid_df.describe().show()\n",
        "\n",
        "# Review that were not part of the vine program\n",
        "unpaid_df.describe().show()"
      ],
      "metadata": {
        "colab": {
          "base_uri": "https://localhost:8080/"
        },
        "id": "7lMMLKuDeZj1",
        "outputId": "68aecd5b-4adf-4707-a0d3-66cc06ff0f58"
      },
      "execution_count": null,
      "outputs": [
        {
          "output_type": "stream",
          "name": "stdout",
          "text": [
            "+-------+------------------+------------------+------------------+----+-----------------+\n",
            "|summary|       star_rating|     helpful_votes|       total_votes|vine|verified_purchase|\n",
            "+-------+------------------+------------------+------------------+----+-----------------+\n",
            "|  count|               647|               647|               647| 647|              647|\n",
            "|   mean|3.8330757341576507| 79.49613601236476| 89.41112828438949|null|             null|\n",
            "| stddev|1.1537877983967164|148.85237840828043|159.41229447031864|null|             null|\n",
            "|    min|                 1|                13|                20|   Y|                N|\n",
            "|    max|                 5|              1778|              1827|   Y|                Y|\n",
            "+-------+------------------+------------------+------------------+----+-----------------+\n",
            "\n",
            "+-------+------------------+------------------+------------------+-----+-----------------+\n",
            "|summary|       star_rating|     helpful_votes|       total_votes| vine|verified_purchase|\n",
            "+-------+------------------+------------------+------------------+-----+-----------------+\n",
            "|  count|             74113|             74113|             74113|74113|            74113|\n",
            "|   mean|3.8452633141284256| 53.48675670934924| 60.17606897575324| null|             null|\n",
            "| stddev|1.6010485742848848|131.37445150669726|138.50263124846188| null|             null|\n",
            "|    min|                 1|                10|                20|    N|                N|\n",
            "|    max|                 5|             13362|             13636|    N|                Y|\n",
            "+-------+------------------+------------------+------------------+-----+-----------------+\n",
            "\n"
          ]
        }
      ]
    },
    {
      "cell_type": "code",
      "source": [
        "paid_five_star_number = paid_df[paid_df['star_rating']== 5].count()\n",
        "paid_number = paid_df.count()\n",
        "percentage_five_star_vine = float(paid_five_star_number) / float(paid_number)\n",
        "print(paid_number)\n",
        "print(paid_five_star_number)\n",
        "print(percentage_five_star_vine)"
      ],
      "metadata": {
        "colab": {
          "base_uri": "https://localhost:8080/"
        },
        "id": "c9GTOyj_eKz6",
        "outputId": "0fd19ebd-8cf0-4331-e9f8-b9ccf540a8f6"
      },
      "execution_count": null,
      "outputs": [
        {
          "output_type": "stream",
          "name": "stdout",
          "text": [
            "647\n",
            "229\n",
            "0.35394126738794435\n"
          ]
        }
      ]
    },
    {
      "cell_type": "code",
      "source": [
        "unpaid_five_star_number = unpaid_df[unpaid_df['star_rating']== 5].count()\n",
        "unpaid_number = unpaid_df.count()\n",
        "percentage_five_star_non_vine = float(unpaid_five_star_number) / float(unpaid_number)\n",
        "print(unpaid_number)\n",
        "print(unpaid_five_star_number)\n",
        "print(float(unpaid_five_star_number) / float(unpaid_number))"
      ],
      "metadata": {
        "colab": {
          "base_uri": "https://localhost:8080/"
        },
        "id": "9tiqbbU0jW5N",
        "outputId": "a3395633-eb35-4116-f544-5b704d98590c"
      },
      "execution_count": null,
      "outputs": [
        {
          "output_type": "stream",
          "name": "stdout",
          "text": [
            "74113\n",
            "43217\n",
            "0.5831230688273312\n"
          ]
        }
      ]
    }
  ]
}